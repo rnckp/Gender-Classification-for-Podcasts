{
 "cells": [
  {
   "cell_type": "markdown",
   "id": "af2de47a-247b-4882-9f01-88324dbe4148",
   "metadata": {},
   "source": [
    "### Imports"
   ]
  },
  {
   "cell_type": "code",
   "execution_count": 1,
   "id": "035eabc7-e7c8-41af-b8a2-976ac9a2d4d0",
   "metadata": {},
   "outputs": [],
   "source": [
    "%matplotlib inline\n",
    "%config InlineBackend.figure_format = 'retina'\n",
    "import matplotlib.pyplot as plt\n",
    "import matplotlib.cm as cm\n",
    "from matplotlib.colors import ListedColormap\n",
    "plt.style.use('ggplot')\n",
    "\n",
    "# set some defaults for plotting\n",
    "COLOR_FEMALE = cm.get_cmap(\"RdBu\")(220) # set blue for female\n",
    "COLOR_MALE = cm.get_cmap(\"RdBu\")(35) # set red for male\n",
    "TITLE_SIZE = 22\n",
    "TITLE_PADDING = 10\n",
    "\n",
    "params = {\n",
    "    'text.color': (0.25, 0.25, 0.25),\n",
    "    'figure.figsize': [12, 5],\n",
    "   }\n",
    "plt.rcParams.update(params)\n",
    "\n",
    "import seaborn as sns\n",
    "\n",
    "import pandas as pd\n",
    "pd.options.display.max_rows = 500\n",
    "\n",
    "import numpy as np\n",
    "np.random.seed(42)\n",
    "\n",
    "import copy\n",
    "import os\n",
    "import sys\n",
    "import glob\n",
    "from shutil import copyfile\n",
    "import time\n",
    "from tabulate import tabulate\n",
    "from tqdm.notebook import tqdm\n",
    "\n",
    "import IPython.display as ipd\n",
    "\n",
    "from sklearn.preprocessing import StandardScaler\n",
    "from sklearn.pipeline import Pipeline\n",
    "from sklearn.decomposition import PCA\n",
    "from sklearn.svm import SVC\n",
    "from sklearn.gaussian_process.kernels import RBF\n",
    "from sklearn.compose import ColumnTransformer\n",
    "from sklearn import set_config\n",
    "set_config(display='diagram')\n",
    "\n",
    "from joblib import dump, load\n",
    "\n",
    "import librosa\n",
    "\n",
    "import pydub\n",
    "from pydub import AudioSegment, effects\n",
    "\n",
    "from pyannote.audio import Inference\n",
    "from pyannote.audio import Pipeline as pyannote_Pipeline\n",
    "\n",
    "import torch"
   ]
  },
  {
   "cell_type": "markdown",
   "id": "d505eb6d-b223-4f6e-aa15-9fd3cf17c4d2",
   "metadata": {},
   "source": [
    "---\n",
    "# How much do men talk more in podcasts than women do?\n",
    "### Assessing the share of male and female voices in German / Swissgerman audio media with machine learning\n",
    "\n",
    "- This notebook makes it easy to **automatically assess the voice share of men and women in batches of MP3 audio files.** \n",
    "- It is build for **analysis of podcast media**. \n",
    "- This tool is derived from [this project](https://github.com/rnckp/EPFL-Capstone-Project). For the full context of the problem space have a look at [this notebook](https://github.com/rnckp/EPFL-Capstone-Project/blob/main/01_project_overview.ipynb).\n",
    "- This tool is **meant to facilitate analysis of gender imbalances in audio media** and **to reduce time consuming manual tracking** for media companies and producers.\n",
    "- Processing time on a local machine (Mac Mini M1) is around 1:10. So **10 hours of podcast episodes take roughly 1 hour of compute**. Analyzing for example the TOP 50 news podcasts in the German iTunes store (20 last epsiodes each, around 500hrs total playing time) takes roughly 50 hours. Retrieving the audio data from a fast SSD drive speeds up processing.\n",
    "\n",
    "### How does it work?\n",
    "- I use a **subset of the German CommonVoice data set** (where the speaker's biological sex is labeled) as well as **45k podcast audio samples (German/Swissgerman) that I selected and labeled myself** (with the help of unsupervised/semisupervised methods like KMeans, UMAP etc.).\n",
    "- I have **gender balanced both data sets to avoid bias toward one biological sex** as much as possible. Interestingly the CommonVoice data itself is [heavily gender imbalanced](https://github.com/rnckp/EPFL-Capstone-Project/blob/main/02_eda.ipynb). \n",
    "- I **filtered the available data towards as much speaker variety as possible**. This significantly has helped to train a model that generalizes better toward unknown speakers.\n",
    "- From all audio samples I extracted as features: [MFCCs](https://librosa.org/doc/main/generated/librosa.feature.mfcc.html), [Chromagram](https://librosa.org/doc/main/generated/librosa.feature.chroma_stft.html) and [Contrast](https://librosa.org/doc/main/generated/librosa.feature.spectral_contrast.html) with librosa and [voice embeddings with pyannote](https://github.com/pyannote/pyannote-audio/tree/develop).\n",
    "- I tried various classifiers on the data and exhaustively gridsearched optimal hyperparameters. A Support Vector Machine classifier yielded the best results (KNN coming in as second best with ~1% less accuracy).\n",
    "- The SVC achieves a **crossvalidated accuracy of +99%** (evaluated on 10 validation folds of the 45k ground truth podcast samples). The trained model is available in the repository and simply can be loaded and used.\n",
    "- In addition to the gender classification I added a **voice activity detection to remove sections without human utterances**. \n",
    "- The **code allows for easy batch processing of many thousand files**. See this article for which I used this code to analyze around 2k epsiodes.\n",
    "- **The model will work with high accuracy on German / Swissgerman language**. Prediction proved to be quite language agnostic. Accuracy will decrease though."
   ]
  },
  {
   "cell_type": "markdown",
   "id": "648ae962-1da6-4327-a81e-f7451afebe1c",
   "metadata": {},
   "source": [
    "### Helper functions for file processing and feature extraction"
   ]
  },
  {
   "cell_type": "code",
   "execution_count": 2,
   "id": "cdcd1f67-8d0e-40f2-9171-25462716eecc",
   "metadata": {},
   "outputs": [],
   "source": [
    "SAMPLE_RATE        = 48_000\n",
    "MFCC_MIN_FREQUENCY = 60\n",
    "MFCC_MAX_FREQUENCY = 8_000\n",
    "MFCC_BANDS         = 80\n",
    "\n",
    "# instantiate pyannote voice embedding\n",
    "inference = Inference(\"pyannote/embedding\", window=\"whole\")\n",
    "\n",
    "# instantiate pyannote voice activity detection\n",
    "MODEL = \"hbredin/VoiceActivityDetection-PyanNet-DIHARD\"\n",
    "vad_pipeline = pyannote_Pipeline.from_pretrained(MODEL, device=\"cuda\")\n",
    "\n",
    "# convert pydub audio file to numpy arraay\n",
    "def pydub_to_np(audio):\n",
    "    return np.array(audio.get_array_of_samples(), dtype=np.float32).reshape((-1, audio.channels)).T\n",
    "\n",
    "# detect and remove leading and trailing silence\n",
    "def detect_leading_silence(audio, silence_threshold=-50.0, chunk_size=10):\n",
    "    trim_ms = 0 # ms\n",
    "    assert chunk_size > 0 # to avoid infinite loop\n",
    "    while audio[trim_ms:trim_ms+chunk_size].dBFS < silence_threshold and trim_ms < len(audio):\n",
    "        trim_ms += chunk_size\n",
    "    return trim_ms\n",
    "\n",
    "# convert pydub audio file to pytorch tensor which is needed for pyannote\n",
    "def get_tensor_from_audiofile(audio_file):\n",
    "    channel_count = audio_file.channels\n",
    "    if channel_count==1:\n",
    "        samples = audio_file.get_array_of_samples()\n",
    "        wv = np.array(samples).astype(np.float32).reshape(-1, len(samples))\n",
    "        wv /= np.iinfo(samples.typecode).max\n",
    "        wv_tensor = torch.tensor(wv)\n",
    "    elif channel_count==2:\n",
    "        channels = audio_file.split_to_mono()\n",
    "        samples = [s.get_array_of_samples() for s in channels]\n",
    "        wv = np.array(samples).astype(np.float32)\n",
    "        wv = wv.mean(axis=0)\n",
    "        wv = wv.reshape(-1, len(wv))\n",
    "        wv /= np.iinfo(samples[0].typecode).max\n",
    "        wv_tensor = torch.tensor(wv)\n",
    "    return wv_tensor\n",
    "\n",
    "# load and preprocess audio file, extract features with librosa and pyannote\n",
    "def get_features(file, secs_to_process=2):\n",
    "    # create empty array to return in case processing fails\n",
    "    empty_ = np.empty(611,)\n",
    "    empty_[:] = np.nan \n",
    "    \n",
    "    try:\n",
    "        audio_file = AudioSegment.from_file(file)\n",
    "    except Exception as e:\n",
    "        print(e)\n",
    "        print(f\"{file} can't be loaded\")\n",
    "        return empty_, False  \n",
    "        \n",
    "    sample_rate = audio_file.frame_rate\n",
    "\n",
    "    # normalize audio levels\n",
    "    try:\n",
    "        audio_file = effects.normalize(audio_file)  \n",
    "    except Exception as e:\n",
    "        print(f\"{file} can't be normalized\")\n",
    "        return empty_, False  \n",
    "    \n",
    "    # remove silence at beginning and end\n",
    "    start_trim = detect_leading_silence(audio_file)\n",
    "    end_trim = detect_leading_silence(audio_file.reverse())\n",
    "    audio_duration = len(audio_file) \n",
    "    audio_file = audio_file[start_trim:audio_duration-end_trim]\n",
    "    \n",
    "    if audio_file.duration_seconds > secs_to_process:\n",
    "        ms_to_process = secs_to_process*1000\n",
    "        center_of_audio = len(audio_file)/2 \n",
    "        start_extract = center_of_audio - ms_to_process/2 \n",
    "        end_extract = start_extract + ms_to_process\n",
    "        audio_file = audio_file[start_extract:end_extract]\n",
    "        \n",
    "    waveform = pydub_to_np(audio_file)\n",
    "       \n",
    "    if waveform.ndim == 2: # check if file is stereo \n",
    "        waveform = waveform.mean(axis=0) # if stereo merge channels by averaging\n",
    "\n",
    "    if len(waveform)>0:\n",
    "        # extract MFCCs\n",
    "        mfcc_ = np.mean(librosa.feature.mfcc(y=waveform, \n",
    "                                             sr=sample_rate, \n",
    "                                             n_mfcc=MFCC_BANDS, \n",
    "                                             fmin=MFCC_MIN_FREQUENCY,\n",
    "                                             fmax=MFCC_MAX_FREQUENCY,\n",
    "                                            ), axis=1) \n",
    "\n",
    "        # extract chromagram and contrast\n",
    "        stft_ = np.abs(librosa.stft(waveform))\n",
    "        chroma_ = np.mean(librosa.feature.chroma_stft(S=stft_, sr=sample_rate).T, axis=0)\n",
    "        contrast_ = np.mean(librosa.feature.spectral_contrast(S=stft_, sr=sample_rate).T, axis=0)\n",
    "        \n",
    "        # return empty if audio is less than 0.5 seconds after removing silence at beginning and end\n",
    "        # embedding doesn't work on very short audio fragments\n",
    "        if audio_file.duration_seconds < 0.5:\n",
    "            return empty_, False\n",
    "        \n",
    "        # get embedding from pyannote\n",
    "        waveform_tensor = get_tensor_from_audiofile(audio_file)\n",
    "        embedding_ = inference({\"waveform\": waveform_tensor, \"sample_rate\":sample_rate})\n",
    "        \n",
    "        # detect voice activity\n",
    "        vad = vad_pipeline({\"waveform\": waveform_tensor, \"sample_rate\":sample_rate})\n",
    "        voice_activity = False\n",
    "        \n",
    "        if len(vad)>0:\n",
    "            if vad.chart()[0][1] > 0.7: # utterance has to be longer than 0.7 secs\n",
    "                voice_activity = True\n",
    "        \n",
    "        return np.hstack([mfcc_, chroma_, contrast_, embedding_]), voice_activity\n",
    "                         \n",
    "    else:\n",
    "        return empty_, False\n",
    "\n",
    "# process list of filenames and extract features from each file    \n",
    "def process_audio_files(file_paths, secs_to_process=2):\n",
    "    features = []\n",
    "    vads = []\n",
    "    for file_path in tqdm(file_paths):\n",
    "        feats, voice_activity = get_features(file_path, secs_to_process=secs_to_process)\n",
    "        features.append(feats)\n",
    "        vads.append(voice_activity)\n",
    "    features = pd.DataFrame(features)\n",
    "    vads = pd.DataFrame(vads)\n",
    "    return features, vads"
   ]
  },
  {
   "cell_type": "markdown",
   "id": "94087c6a-9956-4929-a7ef-55399702c76a",
   "metadata": {
    "tags": []
   },
   "source": [
    "### Load pretrained Support Vector machine model"
   ]
  },
  {
   "cell_type": "code",
   "execution_count": 3,
   "id": "05d92c7d-8204-4448-91da-94b54c9fa83f",
   "metadata": {
    "tags": []
   },
   "outputs": [
    {
     "data": {
      "text/html": [
       "<style>#sk-e9465302-d92d-49c0-86ee-a81332a64f68 {color: black;background-color: white;}#sk-e9465302-d92d-49c0-86ee-a81332a64f68 pre{padding: 0;}#sk-e9465302-d92d-49c0-86ee-a81332a64f68 div.sk-toggleable {background-color: white;}#sk-e9465302-d92d-49c0-86ee-a81332a64f68 label.sk-toggleable__label {cursor: pointer;display: block;width: 100%;margin-bottom: 0;padding: 0.2em 0.3em;box-sizing: border-box;text-align: center;}#sk-e9465302-d92d-49c0-86ee-a81332a64f68 div.sk-toggleable__content {max-height: 0;max-width: 0;overflow: hidden;text-align: left;background-color: #f0f8ff;}#sk-e9465302-d92d-49c0-86ee-a81332a64f68 div.sk-toggleable__content pre {margin: 0.2em;color: black;border-radius: 0.25em;background-color: #f0f8ff;}#sk-e9465302-d92d-49c0-86ee-a81332a64f68 input.sk-toggleable__control:checked~div.sk-toggleable__content {max-height: 200px;max-width: 100%;overflow: auto;}#sk-e9465302-d92d-49c0-86ee-a81332a64f68 div.sk-estimator input.sk-toggleable__control:checked~label.sk-toggleable__label {background-color: #d4ebff;}#sk-e9465302-d92d-49c0-86ee-a81332a64f68 div.sk-label input.sk-toggleable__control:checked~label.sk-toggleable__label {background-color: #d4ebff;}#sk-e9465302-d92d-49c0-86ee-a81332a64f68 input.sk-hidden--visually {border: 0;clip: rect(1px 1px 1px 1px);clip: rect(1px, 1px, 1px, 1px);height: 1px;margin: -1px;overflow: hidden;padding: 0;position: absolute;width: 1px;}#sk-e9465302-d92d-49c0-86ee-a81332a64f68 div.sk-estimator {font-family: monospace;background-color: #f0f8ff;margin: 0.25em 0.25em;border: 1px dotted black;border-radius: 0.25em;box-sizing: border-box;}#sk-e9465302-d92d-49c0-86ee-a81332a64f68 div.sk-estimator:hover {background-color: #d4ebff;}#sk-e9465302-d92d-49c0-86ee-a81332a64f68 div.sk-parallel-item::after {content: \"\";width: 100%;border-bottom: 1px solid gray;flex-grow: 1;}#sk-e9465302-d92d-49c0-86ee-a81332a64f68 div.sk-label:hover label.sk-toggleable__label {background-color: #d4ebff;}#sk-e9465302-d92d-49c0-86ee-a81332a64f68 div.sk-serial::before {content: \"\";position: absolute;border-left: 1px solid gray;box-sizing: border-box;top: 2em;bottom: 0;left: 50%;}#sk-e9465302-d92d-49c0-86ee-a81332a64f68 div.sk-serial {display: flex;flex-direction: column;align-items: center;background-color: white;}#sk-e9465302-d92d-49c0-86ee-a81332a64f68 div.sk-item {z-index: 1;}#sk-e9465302-d92d-49c0-86ee-a81332a64f68 div.sk-parallel {display: flex;align-items: stretch;justify-content: center;background-color: white;}#sk-e9465302-d92d-49c0-86ee-a81332a64f68 div.sk-parallel-item {display: flex;flex-direction: column;position: relative;background-color: white;}#sk-e9465302-d92d-49c0-86ee-a81332a64f68 div.sk-parallel-item:first-child::after {align-self: flex-end;width: 50%;}#sk-e9465302-d92d-49c0-86ee-a81332a64f68 div.sk-parallel-item:last-child::after {align-self: flex-start;width: 50%;}#sk-e9465302-d92d-49c0-86ee-a81332a64f68 div.sk-parallel-item:only-child::after {width: 0;}#sk-e9465302-d92d-49c0-86ee-a81332a64f68 div.sk-dashed-wrapped {border: 1px dashed gray;margin: 0.2em;box-sizing: border-box;padding-bottom: 0.1em;background-color: white;position: relative;}#sk-e9465302-d92d-49c0-86ee-a81332a64f68 div.sk-label label {font-family: monospace;font-weight: bold;background-color: white;display: inline-block;line-height: 1.2em;}#sk-e9465302-d92d-49c0-86ee-a81332a64f68 div.sk-label-container {position: relative;z-index: 2;text-align: center;}#sk-e9465302-d92d-49c0-86ee-a81332a64f68 div.sk-container {display: inline-block;position: relative;}</style><div id=\"sk-e9465302-d92d-49c0-86ee-a81332a64f68\" class\"sk-top-container\"><div class=\"sk-container\"><div class=\"sk-item sk-dashed-wrapped\"><div class=\"sk-label-container\"><div class=\"sk-label sk-toggleable\"><input class=\"sk-toggleable__control sk-hidden--visually\" id=\"2d0fd136-0e95-42f8-a321-c944e6d4b2f4\" type=\"checkbox\" ><label class=\"sk-toggleable__label\" for=\"2d0fd136-0e95-42f8-a321-c944e6d4b2f4\">Pipeline</label><div class=\"sk-toggleable__content\"><pre>Pipeline(steps=[('standardscaler', StandardScaler()),\n",
       "                ('columntransformer',\n",
       "                 ColumnTransformer(remainder='passthrough',\n",
       "                                   transformers=[('PCA', PCA(n_components=128),\n",
       "                                                  [99, 100, 101, 102, 103, 104,\n",
       "                                                   105, 106, 107, 108, 109, 110,\n",
       "                                                   111, 112, 113, 114, 115, 116,\n",
       "                                                   117, 118, 119, 120, 121, 122,\n",
       "                                                   123, 124, 125, 126, 127, 128, ...])])),\n",
       "                ('svc', SVC(C=5, probability=True))])</pre></div></div></div><div class=\"sk-serial\"><div class=\"sk-item\"><div class=\"sk-estimator sk-toggleable\"><input class=\"sk-toggleable__control sk-hidden--visually\" id=\"4924fcf6-19bb-439a-994c-14e7b17bece2\" type=\"checkbox\" ><label class=\"sk-toggleable__label\" for=\"4924fcf6-19bb-439a-994c-14e7b17bece2\">StandardScaler</label><div class=\"sk-toggleable__content\"><pre>StandardScaler()</pre></div></div></div><div class=\"sk-item sk-dashed-wrapped\"><div class=\"sk-label-container\"><div class=\"sk-label sk-toggleable\"><input class=\"sk-toggleable__control sk-hidden--visually\" id=\"b4ffd0d1-685b-48b6-bcbf-07615ebb6322\" type=\"checkbox\" ><label class=\"sk-toggleable__label\" for=\"b4ffd0d1-685b-48b6-bcbf-07615ebb6322\">columntransformer: ColumnTransformer</label><div class=\"sk-toggleable__content\"><pre>ColumnTransformer(remainder='passthrough',\n",
       "                  transformers=[('PCA', PCA(n_components=128),\n",
       "                                 [99, 100, 101, 102, 103, 104, 105, 106, 107,\n",
       "                                  108, 109, 110, 111, 112, 113, 114, 115, 116,\n",
       "                                  117, 118, 119, 120, 121, 122, 123, 124, 125,\n",
       "                                  126, 127, 128, ...])])</pre></div></div></div><div class=\"sk-parallel\"><div class=\"sk-parallel-item\"><div class=\"sk-item\"><div class=\"sk-label-container\"><div class=\"sk-label sk-toggleable\"><input class=\"sk-toggleable__control sk-hidden--visually\" id=\"88ca0839-9a84-4157-9ff2-9c5367e76b10\" type=\"checkbox\" ><label class=\"sk-toggleable__label\" for=\"88ca0839-9a84-4157-9ff2-9c5367e76b10\">PCA</label><div class=\"sk-toggleable__content\"><pre>[99, 100, 101, 102, 103, 104, 105, 106, 107, 108, 109, 110, 111, 112, 113, 114, 115, 116, 117, 118, 119, 120, 121, 122, 123, 124, 125, 126, 127, 128, 129, 130, 131, 132, 133, 134, 135, 136, 137, 138, 139, 140, 141, 142, 143, 144, 145, 146, 147, 148, 149, 150, 151, 152, 153, 154, 155, 156, 157, 158, 159, 160, 161, 162, 163, 164, 165, 166, 167, 168, 169, 170, 171, 172, 173, 174, 175, 176, 177, 178, 179, 180, 181, 182, 183, 184, 185, 186, 187, 188, 189, 190, 191, 192, 193, 194, 195, 196, 197, 198, 199, 200, 201, 202, 203, 204, 205, 206, 207, 208, 209, 210, 211, 212, 213, 214, 215, 216, 217, 218, 219, 220, 221, 222, 223, 224, 225, 226, 227, 228, 229, 230, 231, 232, 233, 234, 235, 236, 237, 238, 239, 240, 241, 242, 243, 244, 245, 246, 247, 248, 249, 250, 251, 252, 253, 254, 255, 256, 257, 258, 259, 260, 261, 262, 263, 264, 265, 266, 267, 268, 269, 270, 271, 272, 273, 274, 275, 276, 277, 278, 279, 280, 281, 282, 283, 284, 285, 286, 287, 288, 289, 290, 291, 292, 293, 294, 295, 296, 297, 298, 299, 300, 301, 302, 303, 304, 305, 306, 307, 308, 309, 310, 311, 312, 313, 314, 315, 316, 317, 318, 319, 320, 321, 322, 323, 324, 325, 326, 327, 328, 329, 330, 331, 332, 333, 334, 335, 336, 337, 338, 339, 340, 341, 342, 343, 344, 345, 346, 347, 348, 349, 350, 351, 352, 353, 354, 355, 356, 357, 358, 359, 360, 361, 362, 363, 364, 365, 366, 367, 368, 369, 370, 371, 372, 373, 374, 375, 376, 377, 378, 379, 380, 381, 382, 383, 384, 385, 386, 387, 388, 389, 390, 391, 392, 393, 394, 395, 396, 397, 398, 399, 400, 401, 402, 403, 404, 405, 406, 407, 408, 409, 410, 411, 412, 413, 414, 415, 416, 417, 418, 419, 420, 421, 422, 423, 424, 425, 426, 427, 428, 429, 430, 431, 432, 433, 434, 435, 436, 437, 438, 439, 440, 441, 442, 443, 444, 445, 446, 447, 448, 449, 450, 451, 452, 453, 454, 455, 456, 457, 458, 459, 460, 461, 462, 463, 464, 465, 466, 467, 468, 469, 470, 471, 472, 473, 474, 475, 476, 477, 478, 479, 480, 481, 482, 483, 484, 485, 486, 487, 488, 489, 490, 491, 492, 493, 494, 495, 496, 497, 498, 499, 500, 501, 502, 503, 504, 505, 506, 507, 508, 509, 510, 511, 512, 513, 514, 515, 516, 517, 518, 519, 520, 521, 522, 523, 524, 525, 526, 527, 528, 529, 530, 531, 532, 533, 534, 535, 536, 537, 538, 539, 540, 541, 542, 543, 544, 545, 546, 547, 548, 549, 550, 551, 552, 553, 554, 555, 556, 557, 558, 559, 560, 561, 562, 563, 564, 565, 566, 567, 568, 569, 570, 571, 572, 573, 574, 575, 576, 577, 578, 579, 580, 581, 582, 583, 584, 585, 586, 587, 588, 589, 590, 591, 592, 593, 594, 595, 596, 597, 598, 599, 600, 601, 602, 603, 604, 605, 606, 607, 608, 609, 610]</pre></div></div></div><div class=\"sk-serial\"><div class=\"sk-item\"><div class=\"sk-estimator sk-toggleable\"><input class=\"sk-toggleable__control sk-hidden--visually\" id=\"bdbe9469-f133-4a63-aa8a-687bfa640e41\" type=\"checkbox\" ><label class=\"sk-toggleable__label\" for=\"bdbe9469-f133-4a63-aa8a-687bfa640e41\">PCA</label><div class=\"sk-toggleable__content\"><pre>PCA(n_components=128)</pre></div></div></div></div></div></div><div class=\"sk-parallel-item\"><div class=\"sk-item\"><div class=\"sk-label-container\"><div class=\"sk-label sk-toggleable\"><input class=\"sk-toggleable__control sk-hidden--visually\" id=\"441e1c38-7f3d-47b0-9e1f-552b40d2198c\" type=\"checkbox\" ><label class=\"sk-toggleable__label\" for=\"441e1c38-7f3d-47b0-9e1f-552b40d2198c\">remainder</label><div class=\"sk-toggleable__content\"><pre>[0, 1, 2, 3, 4, 5, 6, 7, 8, 9, 10, 11, 12, 13, 14, 15, 16, 17, 18, 19, 20, 21, 22, 23, 24, 25, 26, 27, 28, 29, 30, 31, 32, 33, 34, 35, 36, 37, 38, 39, 40, 41, 42, 43, 44, 45, 46, 47, 48, 49, 50, 51, 52, 53, 54, 55, 56, 57, 58, 59, 60, 61, 62, 63, 64, 65, 66, 67, 68, 69, 70, 71, 72, 73, 74, 75, 76, 77, 78, 79, 80, 81, 82, 83, 84, 85, 86, 87, 88, 89, 90, 91, 92, 93, 94, 95, 96, 97, 98]</pre></div></div></div><div class=\"sk-serial\"><div class=\"sk-item\"><div class=\"sk-estimator sk-toggleable\"><input class=\"sk-toggleable__control sk-hidden--visually\" id=\"686a3c9f-d5e8-4a58-a463-8b370e1cbcc4\" type=\"checkbox\" ><label class=\"sk-toggleable__label\" for=\"686a3c9f-d5e8-4a58-a463-8b370e1cbcc4\">passthrough</label><div class=\"sk-toggleable__content\"><pre>passthrough</pre></div></div></div></div></div></div></div></div><div class=\"sk-item\"><div class=\"sk-estimator sk-toggleable\"><input class=\"sk-toggleable__control sk-hidden--visually\" id=\"dfe7b7ba-3e83-4093-a94c-9e0089029c0f\" type=\"checkbox\" ><label class=\"sk-toggleable__label\" for=\"dfe7b7ba-3e83-4093-a94c-9e0089029c0f\">SVC</label><div class=\"sk-toggleable__content\"><pre>SVC(C=5, probability=True)</pre></div></div></div></div></div></div></div>"
      ],
      "text/plain": [
       "Pipeline(steps=[('standardscaler', StandardScaler()),\n",
       "                ('columntransformer',\n",
       "                 ColumnTransformer(remainder='passthrough',\n",
       "                                   transformers=[('PCA', PCA(n_components=128),\n",
       "                                                  [99, 100, 101, 102, 103, 104,\n",
       "                                                   105, 106, 107, 108, 109, 110,\n",
       "                                                   111, 112, 113, 114, 115, 116,\n",
       "                                                   117, 118, 119, 120, 121, 122,\n",
       "                                                   123, 124, 125, 126, 127, 128, ...])])),\n",
       "                ('svc', SVC(C=5, probability=True))])"
      ]
     },
     "metadata": {},
     "output_type": "display_data"
    }
   ],
   "source": [
    "pipe = load('SVC_model.joblib') \n",
    "display(pipe)"
   ]
  },
  {
   "cell_type": "markdown",
   "id": "9748cb5a-331d-436e-a121-73e3cfddd036",
   "metadata": {},
   "source": [
    "### Main function for file loading, preprocessing, feature extraction and prediction"
   ]
  },
  {
   "cell_type": "code",
   "execution_count": 18,
   "id": "5c00514a-b255-4f90-88df-849f293e8bdd",
   "metadata": {},
   "outputs": [],
   "source": [
    "CHUNK_LENGTH = 2\n",
    "SECS_TO_PROCESS = 2\n",
    "\n",
    "def analyze_podcast(episode_name, \n",
    "                    episode_folder, \n",
    "                    chunks_to_process=-1, \n",
    "                    copy_chunks=False):\n",
    "\n",
    "    start = int(time.time())\n",
    "    \n",
    "    # create folder for intermediate segment files\n",
    "    _ = !mkdir \"{episode_folder}\"/_chunks\n",
    "\n",
    "    # cut podcast episode in 2 seconds chunks\n",
    "    _ = !ffmpeg -i \"{episode_folder}\"/\"{episode_name}\".mp3 -map 0 -f segment -segment_time $CHUNK_LENGTH -c copy -vn \"{episode_folder}\"/_chunks/\"{episode_name}\"_%04d.mp3\n",
    "\n",
    "    frames = []\n",
    "    \n",
    "    # get file list of all chunks\n",
    "    podcast_seqments = glob.glob(f\"{episode_folder}/_chunks/*\")\n",
    "    podcast_seqments = sorted(podcast_seqments)[:chunks_to_process] # default is to leave out the last chunk which likely is shorter than 2 seconds\n",
    "    pod_meta = pd.DataFrame(podcast_seqments, columns=[\"file_path\"])\n",
    "    \n",
    "    # extract features for all chunks, detect voice activity and classify speaker's biological sex\n",
    "    pod_feat, pod_vad = process_audio_files(pod_meta.file_path, secs_to_process=SECS_TO_PROCESS)\n",
    "\n",
    "    print(f\"Episode is {len(pod_feat)*SECS_TO_PROCESS/60:.0f} minutes long.\")\n",
    "    pod_feat.dropna(inplace=True)\n",
    "    print(f\"For {len(pod_meta) - len(pod_feat)} segments features can't be computed.\")\n",
    "\n",
    "    pod_preds = pipe.predict(pod_feat)\n",
    "    pod_preds = pd.DataFrame(pod_preds, index=pod_feat.index)\n",
    "\n",
    "    pod_preds_labels = np.where(pod_preds==\"male\", True, False)\n",
    "    pod_preds_labels = pd.DataFrame(pod_preds_labels, index=pod_feat.index)\n",
    "\n",
    "    pod_proba = pipe.predict_proba(pod_feat)\n",
    "    pod_proba = pd.DataFrame(pod_proba, index=pod_feat.index)\n",
    "\n",
    "    pod_meta[\"predicted\"] = pod_preds\n",
    "    pod_meta[\"predicted_proba\"] = pod_proba.max(axis=1)\n",
    "    pod_meta[\"voice_activity\"] = pod_vad\n",
    "\n",
    "    pod_meta.predicted.fillna(\"not_computed\", inplace=True)\n",
    "    pod_meta.loc[pod_meta.voice_activity==False, \"predicted\"] = \"no_voice\"\n",
    "    no_voice_cnt = pod_meta[pod_meta.voice_activity==False].shape[0]\n",
    "\n",
    "    # set confidence treshold for low probability predictions\n",
    "    # discarding these from the final calculation helps to improve accuracy (difference is minor though)\n",
    "    # for SVC 0.95 is a sensible default\n",
    "    low_threshold = 0.95\n",
    "    low_proba = pod_meta[(pod_meta.predicted_proba <= low_threshold) & \n",
    "                         (pod_meta.voice_activity==True)].index\n",
    "    low_proba_cnt = len(low_proba)\n",
    "    print(f\"{low_proba_cnt} ({100/len(pod_meta)*low_proba_cnt:.2f}%) predictions with confidence below {low_threshold}.\\n\")\n",
    "\n",
    "    pod_low_proba = pod_meta.iloc[low_proba]\n",
    "    pod_high_proba = pod_meta.drop(pod_low_proba.index).copy()\n",
    "    \n",
    "    pod_low_proba = pod_low_proba[pod_low_proba.voice_activity==True]\n",
    "    pod_high_proba = pod_high_proba[pod_high_proba.voice_activity==True]\n",
    "    \n",
    "    if copy_chunks==True:\n",
    "        # create directories to save predicted chunks to\n",
    "        _ = !mkdir \"{episode_folder}\"/_low_confidence_male\n",
    "        _ = !mkdir \"{episode_folder}\"/_low_confidence_female\n",
    "        _ = !mkdir \"{episode_folder}\"/_predicted_male\n",
    "        _ = !mkdir \"{episode_folder}\"/_predicted_female\n",
    "    \n",
    "        # copy all predicted chunks into separate folders – this allows for easy inspection and error correction\n",
    "        for prediction in [\"male\", \"female\"]:\n",
    "            for filename in pod_low_proba[pod_low_proba.predicted==prediction].file_path.values:\n",
    "                file = filename.split(\"_chunks/\")[1]\n",
    "                destination = f\"{episode_folder}/_low_confidence_{prediction}/{file}\"\n",
    "                copyfile(filename, destination)\n",
    "            for filename in pod_high_proba[pod_high_proba.predicted==prediction].file_path.values:\n",
    "                file = filename.split(\"_chunks/\")[1]\n",
    "                destination = f\"{episode_folder}/_predicted_{prediction}/{file}\"\n",
    "                copyfile(filename, destination)\n",
    "\n",
    "    map_labels = dict(zip([\"male\", \"female\", \"not_computed\", \"no_voice\"], range(0,4)))\n",
    "    labels_mapped = pod_meta.predicted.map(map_labels).to_list()\n",
    "\n",
    "    colors = [COLOR_MALE, COLOR_FEMALE]\n",
    "    unique_labels = pod_meta.predicted.unique()\n",
    "\n",
    "    if \"no_voice\" in unique_labels and \"not_computed\" in unique_labels:\n",
    "        colors = [COLOR_MALE, COLOR_FEMALE, \"black\", \"white\"]\n",
    "    elif \"no_voice\" in unique_labels:\n",
    "        colors = [COLOR_MALE, COLOR_FEMALE, \"white\"]  \n",
    "    elif \"not_computed\" in unique_labels:\n",
    "        colors = [COLOR_MALE, COLOR_FEMALE, \"black\"]\n",
    "        \n",
    "    # plot colored timeline of podcast episode\n",
    "    plt.figure(figsize=(12,0.7))\n",
    "    sns.heatmap(pd.DataFrame(labels_mapped).T, cbar=False, center=True, cmap=ListedColormap(colors))\n",
    "    plt.xticks([])\n",
    "    plt.yticks([])\n",
    "    plt.tight_layout()\n",
    "    plt.show()\n",
    "          \n",
    "    label_ratio = pod_high_proba.predicted.value_counts(normalize=True)\n",
    "    print(tabulate(label_ratio.to_frame(), floatfmt=\".2f\"))\n",
    "    \n",
    "    male_all = pod_meta[pod_meta.predicted==\"male\"].predicted.count()\n",
    "    female_all = pod_meta[pod_meta.predicted==\"female\"].predicted.count()\n",
    "\n",
    "    male_high_proba = pod_high_proba[pod_high_proba.predicted==\"male\"].predicted.count()\n",
    "    female_high_proba = pod_high_proba[pod_high_proba.predicted==\"female\"].predicted.count()    \n",
    "    \n",
    "    end = time.time()\n",
    "    processing_time = end-start\n",
    "    episode_length = len(podcast_seqments)*SECS_TO_PROCESS\n",
    "    \n",
    "    tmp = pd.DataFrame([episode_name, episode_length, processing_time, labels_mapped,   \n",
    "                        male_all, female_all, male_high_proba, female_high_proba, \n",
    "                        low_proba_cnt, no_voice_cnt])\n",
    "    tmp = pd.concat([tmp, label_ratio]).T\n",
    "    \n",
    "    # clean up chunk folder\n",
    "    _ = !rm \"{episode_folder}\"/_chunks/*\n",
    "    _ = !rmdir \"{episode_folder}\"/_chunks\n",
    "    \n",
    "    return tmp"
   ]
  },
  {
   "cell_type": "markdown",
   "id": "5e2610e2-b296-4a8e-b107-9ec02ac8fde2",
   "metadata": {
    "tags": []
   },
   "source": [
    "### Set project directory and start processing\n",
    "\n",
    "- To batch process files **you need to setup a base directory which contains one subfolder per podcast show**. \n",
    "- **In each of these podcast show directories simply put as many audio/episode files as you want to process.** \n",
    "- Alternatively just create one subfolder and copy all files that you want to analyze into this single folder.\n",
    "- The file format has to be MP3 (but can be easily changed in the code to other formats as well)."
   ]
  },
  {
   "cell_type": "code",
   "execution_count": 28,
   "id": "3faaded1-5ff2-4ce8-bc11-c0b914c74657",
   "metadata": {
    "tags": []
   },
   "outputs": [
    {
     "name": "stdout",
     "output_type": "stream",
     "text": [
      "--------------------------------------------------------------------------------\n",
      "apokalypse_filterkaf_0001\n"
     ]
    },
    {
     "data": {
      "application/vnd.jupyter.widget-view+json": {
       "model_id": "3fe3810f2c7b4bf599d17a673d1d17c2",
       "version_major": 2,
       "version_minor": 0
      },
      "text/plain": [
       "  0%|          | 0/100 [00:00<?, ?it/s]"
      ]
     },
     "metadata": {},
     "output_type": "display_data"
    },
    {
     "name": "stdout",
     "output_type": "stream",
     "text": [
      "Episode is 3 minutes long.\n",
      "For 0 segments features can't be computed.\n",
      "5 (5.00%) predictions with confidence below 0.95.\n",
      "\n"
     ]
    },
    {
     "data": {
      "image/png": "[encoded data removed]",
      "text/plain": [
       "<Figure size 864x50.4 with 1 Axes>"
      ]
     },
     "metadata": {
      "image/png": {
       "height": 43,
       "width": 856
      }
     },
     "output_type": "display_data"
    },
    {
     "name": "stdout",
     "output_type": "stream",
     "text": [
      "------  ----\n",
      "male    0.72\n",
      "female  0.28\n",
      "------  ----\n",
      "--------------------------------------------------------------------------------\n",
      "kekul_s_corona_kompa_0001\n"
     ]
    },
    {
     "data": {
      "application/vnd.jupyter.widget-view+json": {
       "model_id": "56c4d870c8bf4cf8bce4cc523efbbce9",
       "version_major": 2,
       "version_minor": 0
      },
      "text/plain": [
       "  0%|          | 0/100 [00:00<?, ?it/s]"
      ]
     },
     "metadata": {},
     "output_type": "display_data"
    },
    {
     "name": "stdout",
     "output_type": "stream",
     "text": [
      "Episode is 3 minutes long.\n",
      "For 0 segments features can't be computed.\n",
      "1 (1.00%) predictions with confidence below 0.95.\n",
      "\n"
     ]
    },
    {
     "data": {
      "image/png": "[encoded data removed]",
      "text/plain": [
       "<Figure size 864x50.4 with 1 Axes>"
      ]
     },
     "metadata": {
      "image/png": {
       "height": 43,
       "width": 856
      }
     },
     "output_type": "display_data"
    },
    {
     "name": "stdout",
     "output_type": "stream",
     "text": [
      "----  ----\n",
      "male  1.00\n",
      "----  ----\n",
      "--------------------------------------------------------------------------------\n",
      "deutschlandfunk_der__0001\n"
     ]
    },
    {
     "data": {
      "application/vnd.jupyter.widget-view+json": {
       "model_id": "39cff79167a946c5b02fa882dc3179c1",
       "version_major": 2,
       "version_minor": 0
      },
      "text/plain": [
       "  0%|          | 0/100 [00:00<?, ?it/s]"
      ]
     },
     "metadata": {},
     "output_type": "display_data"
    },
    {
     "name": "stdout",
     "output_type": "stream",
     "text": [
      "Episode is 3 minutes long.\n",
      "For 0 segments features can't be computed.\n",
      "4 (4.00%) predictions with confidence below 0.95.\n",
      "\n"
     ]
    },
    {
     "data": {
      "image/png": "[encoded data removed]",
      "text/plain": [
       "<Figure size 864x50.4 with 1 Axes>"
      ]
     },
     "metadata": {
      "image/png": {
       "height": 43,
       "width": 856
      }
     },
     "output_type": "display_data"
    },
    {
     "name": "stdout",
     "output_type": "stream",
     "text": [
      "----  ----\n",
      "male  1.00\n",
      "----  ----\n",
      "CPU times: user 2min 52s, sys: 1min 33s, total: 4min 25s\n",
      "Wall time: 1min 21s\n"
     ]
    }
   ],
   "source": [
    "%%time\n",
    "# path to your project directory\n",
    "PROJECT_DIRECTORY = \"your_project_folder/\"\n",
    "    \n",
    "episode_folders = [f.path for f in os.scandir(PROJECT_DIRECTORY) if f.is_dir()]\n",
    "episode_folders = sorted(episode_folders)\n",
    "\n",
    "for episode_folder in episode_folders:\n",
    "    episodes = glob.glob(f\"{episode_folder}/*.mp3\")\n",
    "    episodes = list(sorted(episodes))\n",
    "    \n",
    "    results = []\n",
    "    for episode in episodes:\n",
    "        episode = episode.split(\"/\")[-1].replace(\".mp3\", \"\")\n",
    "        print(\"-\"*80)\n",
    "        print(episode)\n",
    "        results.append(analyze_podcast(episode, episode_folder, \n",
    "                                       # 1 chunk == 2 seconds, e.g. set to chunks_to_process=30 if you want to process 60secs/1min\n",
    "                                       # set chunks_to_process=-1 to process whole episodes\n",
    "                                       chunks_to_process=100,\n",
    "                                       # set to True if you want to examine predicted audio segments\n",
    "                                       # code will copy predicted chunks to separate subfolders in podcast subfolder\n",
    "                                       copy_chunks=False\n",
    "                                      ))\n",
    "\n",
    "    df = pd.concat(results).reset_index(drop=True)\n",
    "    cols = [\"file_name\", \"length\", \"processing_time\", \"labels\",   \n",
    "            \"male_all\", \"female_all\", \"male_confident\", \"female_confident\",\n",
    "           \"low_confidence\", \"no_voice\"]\n",
    "    cols.extend(df.columns[10:])\n",
    "    df.columns = cols\n",
    "    \n",
    "    # save result per podcast per folder into folder itself\n",
    "    df.to_csv(f\"{episode_folder}/{episode_folder.split('/')[-1]}_results.csv\", index=False)\n",
    "    \n",
    "    df.head()"
   ]
  },
  {
   "cell_type": "markdown",
   "id": "1ba94a44-7503-40d8-ae0a-6e46a6a19d9c",
   "metadata": {},
   "source": [
    "### Load results and analyze"
   ]
  },
  {
   "cell_type": "code",
   "execution_count": 29,
   "id": "39159102-b7fe-4ad9-b48a-e019144f89ff",
   "metadata": {},
   "outputs": [
    {
     "data": {
      "text/html": [
       "<div>\n",
       "<style scoped>\n",
       "    .dataframe tbody tr th:only-of-type {\n",
       "        vertical-align: middle;\n",
       "    }\n",
       "\n",
       "    .dataframe tbody tr th {\n",
       "        vertical-align: top;\n",
       "    }\n",
       "\n",
       "    .dataframe thead th {\n",
       "        text-align: right;\n",
       "    }\n",
       "</style>\n",
       "<table border=\"1\" class=\"dataframe\">\n",
       "  <thead>\n",
       "    <tr style=\"text-align: right;\">\n",
       "      <th></th>\n",
       "      <th>folder_name</th>\n",
       "      <th>file_name</th>\n",
       "      <th>length</th>\n",
       "      <th>processing_time</th>\n",
       "      <th>male_all</th>\n",
       "      <th>female_all</th>\n",
       "      <th>male_confident</th>\n",
       "      <th>female_confident</th>\n",
       "      <th>low_confidence</th>\n",
       "      <th>no_voice</th>\n",
       "      <th>female</th>\n",
       "      <th>male</th>\n",
       "    </tr>\n",
       "  </thead>\n",
       "  <tbody>\n",
       "    <tr>\n",
       "      <th>0</th>\n",
       "      <td>Apokalypse und Filterkaffee</td>\n",
       "      <td>apokalypse_filterkaf_0001</td>\n",
       "      <td>200</td>\n",
       "      <td>27.479272</td>\n",
       "      <td>71</td>\n",
       "      <td>28</td>\n",
       "      <td>68</td>\n",
       "      <td>26</td>\n",
       "      <td>5</td>\n",
       "      <td>1</td>\n",
       "      <td>0.276596</td>\n",
       "      <td>0.723404</td>\n",
       "    </tr>\n",
       "    <tr>\n",
       "      <th>1</th>\n",
       "      <td>Corona Kompass</td>\n",
       "      <td>kekul_s_corona_kompa_0001</td>\n",
       "      <td>200</td>\n",
       "      <td>27.584394</td>\n",
       "      <td>97</td>\n",
       "      <td>0</td>\n",
       "      <td>96</td>\n",
       "      <td>0</td>\n",
       "      <td>1</td>\n",
       "      <td>3</td>\n",
       "      <td>0.000000</td>\n",
       "      <td>1.000000</td>\n",
       "    </tr>\n",
       "    <tr>\n",
       "      <th>2</th>\n",
       "      <td>Deutschlandfunk Der Tag</td>\n",
       "      <td>deutschlandfunk_der__0001</td>\n",
       "      <td>200</td>\n",
       "      <td>27.111036</td>\n",
       "      <td>97</td>\n",
       "      <td>0</td>\n",
       "      <td>93</td>\n",
       "      <td>0</td>\n",
       "      <td>4</td>\n",
       "      <td>3</td>\n",
       "      <td>0.000000</td>\n",
       "      <td>1.000000</td>\n",
       "    </tr>\n",
       "  </tbody>\n",
       "</table>\n",
       "</div>"
      ],
      "text/plain": [
       "                   folder_name                  file_name  length  \\\n",
       "0  Apokalypse und Filterkaffee  apokalypse_filterkaf_0001     200   \n",
       "1               Corona Kompass  kekul_s_corona_kompa_0001     200   \n",
       "2      Deutschlandfunk Der Tag  deutschlandfunk_der__0001     200   \n",
       "\n",
       "   processing_time  male_all  female_all  male_confident  female_confident  \\\n",
       "0        27.479272        71          28              68                26   \n",
       "1        27.584394        97           0              96                 0   \n",
       "2        27.111036        97           0              93                 0   \n",
       "\n",
       "   low_confidence  no_voice    female      male  \n",
       "0               5         1  0.276596  0.723404  \n",
       "1               1         3  0.000000  1.000000  \n",
       "2               4         3  0.000000  1.000000  "
      ]
     },
     "execution_count": 29,
     "metadata": {},
     "output_type": "execute_result"
    }
   ],
   "source": [
    "results = []\n",
    "for episode_folder in episode_folders:\n",
    "    tmp = glob.glob(f\"{episode_folder}/*.csv\")\n",
    "    if len(tmp)>0:\n",
    "        tmp = pd.read_csv(tmp[0])\n",
    "        tmp[\"folder_name\"] = episode_folder.split(\"/\")[-1]\n",
    "        results.append(tmp)\n",
    "\n",
    "df = pd.concat(results).reset_index(drop=True)\n",
    "\n",
    "# drop full list of predicted labels since these likely won't be needed for analysis\n",
    "df.drop(\"labels\", axis=1, inplace=True)\n",
    "\n",
    "# reorder columns\n",
    "cols = ['folder_name', 'file_name', 'length', 'processing_time', 'male_all', 'female_all',\n",
    "       'male_confident', 'female_confident', 'low_confidence', 'no_voice', 'female',\n",
    "       'male']\n",
    "df = df[cols]\n",
    "\n",
    "# NaNs in feature female/male actually mean 0, so we fill 0 where NaNs are present\n",
    "df.male.fillna(0, inplace=True)\n",
    "df.female.fillna(0, inplace=True)\n",
    "\n",
    "# sanity check for any remaining NaN values\n",
    "assert df.isna().any().sum() == 0\n",
    "\n",
    "# sanity check for duplicated episode entries\n",
    "assert df.duplicated().sum() == 0\n",
    "\n",
    "df.head(10)"
   ]
  },
  {
   "cell_type": "code",
   "execution_count": 30,
   "id": "19802a37-4f16-4cb5-bdc9-26a89eae2b99",
   "metadata": {},
   "outputs": [
    {
     "name": "stdout",
     "output_type": "stream",
     "text": [
      "Analyzed 3 epsiodes from 3 unique podcast folders.\n",
      "\n",
      "Total playing time:    000.2 hrs (0.2 in segments)\n",
      "Total processing time: 000.0 hrs\n",
      "\n",
      "Total male voices:     000.1 hrs | 85.7% of total, 90.8% of voice\n",
      "Total female voices:   000.0 hrs | 8.7% of total, 9.2% of voice\n",
      "Low probability:       000.0 hrs | 3.3%\n",
      "No voice activity:     000.0 hrs | 2.3%\n"
     ]
    }
   ],
   "source": [
    "print(f\"Analyzed {len(df)} epsiodes from {df.folder_name.nunique()} unique podcast folders.\\n\")\n",
    "\n",
    "# every sample accounts for 2 seconds\n",
    "male_total = df.male_confident.sum()*2/3600\n",
    "female_total = df.female_confident.sum()*2/3600\n",
    "low_proba = df.low_confidence.sum()*2/3600\n",
    "no_voice = df.no_voice.sum()*2/3600\n",
    "\n",
    "total = male_total + female_total + low_proba + no_voice\n",
    "total_voice = male_total + female_total\n",
    "\n",
    "male_perc = 100/total*male_total\n",
    "male_voice_perc = 100/total_voice*male_total \n",
    "\n",
    "female_perc = 100/total*female_total\n",
    "female_voice_perc = 100/total_voice*female_total \n",
    "\n",
    "low_proba_perc = 100/total*low_proba\n",
    "no_voice_perc = 100/total*no_voice\n",
    "\n",
    "print(f\"Total playing time:    {df.length.sum()/3600:05.1f} hrs ({total:.1f} in segments)\")\n",
    "print(f\"Total processing time: {df.processing_time.sum()/3600:05.1f} hrs\")\n",
    "print(\"\")\n",
    "print(f\"Total male voices:     {male_total:05.1f} hrs | {male_perc:.1f}% of total, {male_voice_perc:.1f}% of voice\")\n",
    "print(f\"Total female voices:   {female_total:05.1f} hrs | {female_perc:.1f}% of total, {female_voice_perc:.1f}% of voice\")\n",
    "print(f\"Low probability:       {low_proba:05.1f} hrs | {low_proba_perc:.1f}%\")\n",
    "print(f\"No voice activity:     {no_voice:05.1f} hrs | {no_voice_perc:.1f}%\")"
   ]
  },
  {
   "cell_type": "code",
   "execution_count": 31,
   "id": "709a2ebc-197e-4d9d-9ddb-0781026baafb",
   "metadata": {},
   "outputs": [
    {
     "name": "stdout",
     "output_type": "stream",
     "text": [
      "There is a 0.2% difference between confident predictions vs. all predictions.\n"
     ]
    }
   ],
   "source": [
    "cols = ['male_all', 'female_all', 'male_confident', 'female_confident']\n",
    "tmp = df.groupby(\"folder_name\")[cols].sum()\n",
    "tmp[\"male_perc_all\"] = 100/(tmp.female_all+tmp.male_all)*tmp.male_all\n",
    "tmp[\"male_perc_confident\"] = 100/(tmp.female_confident+tmp.male_confident)*tmp.male_confident\n",
    "tmp[\"confidence_diff\"] = np.abs(tmp.male_perc_all - tmp.male_perc_confident)\n",
    "print(f\"There is a {tmp.confidence_diff.mean():.1f}% difference between confident predictions vs. all predictions.\")"
   ]
  },
  {
   "cell_type": "code",
   "execution_count": 32,
   "id": "6c4134ec-77b5-4429-9c64-f8188bd5ba31",
   "metadata": {},
   "outputs": [
    {
     "data": {
      "text/html": [
       "<div>\n",
       "<style scoped>\n",
       "    .dataframe tbody tr th:only-of-type {\n",
       "        vertical-align: middle;\n",
       "    }\n",
       "\n",
       "    .dataframe tbody tr th {\n",
       "        vertical-align: top;\n",
       "    }\n",
       "\n",
       "    .dataframe thead th {\n",
       "        text-align: right;\n",
       "    }\n",
       "</style>\n",
       "<table border=\"1\" class=\"dataframe\">\n",
       "  <thead>\n",
       "    <tr style=\"text-align: right;\">\n",
       "      <th></th>\n",
       "      <th>mean</th>\n",
       "      <th>50%</th>\n",
       "    </tr>\n",
       "    <tr>\n",
       "      <th>folder_name</th>\n",
       "      <th></th>\n",
       "      <th></th>\n",
       "    </tr>\n",
       "  </thead>\n",
       "  <tbody>\n",
       "    <tr>\n",
       "      <th>Corona Kompass</th>\n",
       "      <td>100.0</td>\n",
       "      <td>100.0</td>\n",
       "    </tr>\n",
       "    <tr>\n",
       "      <th>Deutschlandfunk Der Tag</th>\n",
       "      <td>100.0</td>\n",
       "      <td>100.0</td>\n",
       "    </tr>\n",
       "    <tr>\n",
       "      <th>Apokalypse und Filterkaffee</th>\n",
       "      <td>72.3</td>\n",
       "      <td>72.3</td>\n",
       "    </tr>\n",
       "  </tbody>\n",
       "</table>\n",
       "</div>"
      ],
      "text/plain": [
       "                             mean   50%\n",
       "folder_name                            \n",
       "Corona Kompass              100.0 100.0\n",
       "Deutschlandfunk Der Tag     100.0 100.0\n",
       "Apokalypse und Filterkaffee  72.3  72.3"
      ]
     },
     "metadata": {},
     "output_type": "display_data"
    }
   ],
   "source": [
    "df[\"male_perc_confident\"] = 100/(df.female_confident+df.male_confident)*df.male_confident\n",
    "df_sum = df.groupby(\"folder_name\").male_perc_confident.describe()[[\"mean\", \"50%\"]]\n",
    "\n",
    "with pd.option_context('display.float_format', '{:,.1f}'.format):\n",
    "    display(df_sum.sort_values(\"50%\", ascending=False))"
   ]
  },
  {
   "cell_type": "code",
   "execution_count": 33,
   "id": "f3947e1c-6efa-4d85-8138-c24bf61eb601",
   "metadata": {},
   "outputs": [
    {
     "data": {
      "image/png": "[encoded data removed]",
      "text/plain": [
       "<Figure size 1008x360 with 1 Axes>"
      ]
     },
     "metadata": {
      "image/png": {
       "height": 356,
       "width": 1000
      }
     },
     "output_type": "display_data"
    }
   ],
   "source": [
    "plt.style.use(\"seaborn-whitegrid\")\n",
    "\n",
    "df_sum.sort_values(\"mean\", ascending=False, inplace=True)\n",
    "\n",
    "colors = []\n",
    "error_interval = 10\n",
    "error_lower = 50-error_interval/2\n",
    "error_upper = 50+error_interval/2\n",
    "\n",
    "for mean_ in df_sum[[\"mean\"]].values:\n",
    "    if mean_ > error_upper:\n",
    "        colors.append(COLOR_MALE)\n",
    "    elif mean_ <=error_lower:\n",
    "        colors.append(COLOR_FEMALE)\n",
    "    else:\n",
    "        colors.append(\"grey\")\n",
    "        \n",
    "plt.figure(figsize=(14,5))\n",
    "ax = sns.barplot(data=df_sum, x=\"mean\", y=df_sum.index, palette=colors, capsize=10)\n",
    "plt.title(\"Mean male voice share per podcast\", size=TITLE_SIZE+10, pad=TITLE_PADDING+5)\n",
    "plt.xlim(0, 105)\n",
    "rng = range(0, 110, 10)\n",
    "plt.xticks(ticks=rng, labels=[str(x)+\"%\" for x in rng])\n",
    "plt.yticks(size=12)\n",
    "plt.axvspan(error_lower, error_upper, alpha=0.2, color='lightgrey')\n",
    "plt.xlabel(f\"Percent of male voice share\\nGrey area indicates margin of error interval of {error_interval}%\")\n",
    "plt.ylabel(\"\")\n",
    "\n",
    "plt.legend([\"Higher male voice share\", \"Higher female voice share\", \"Gender balance within margin of error\"], loc=\"lower right\")\n",
    "leg = ax.get_legend()\n",
    "leg.legendHandles[0].set_color(COLOR_MALE)\n",
    "leg.legendHandles[1].set_color(COLOR_FEMALE)\n",
    "leg.legendHandles[2].set_color(\"grey\")\n",
    "\n",
    "ax.spines['top'].set_visible(False)\n",
    "ax.spines['right'].set_visible(False)\n",
    "ax.spines['left'].set_visible(False)\n",
    "ax.spines['bottom'].set_visible(False)\n",
    "\n",
    "ax.spines['left'].set_position(('outward', 10))\n",
    "ax.spines['bottom'].set_position(('outward', 0))\n",
    "\n",
    "plt.tight_layout()\n",
    "# plt.savefig(\"result.png\")\n",
    "plt.show()"
   ]
  },
  {
   "cell_type": "code",
   "execution_count": null,
   "id": "0e39e887-211c-4182-b487-073ff66251ab",
   "metadata": {},
   "outputs": [],
   "source": []
  }
 ],
 "metadata": {
  "kernelspec": {
   "display_name": "Python 3",
   "language": "python",
   "name": "python3"
  },
  "language_info": {
   "codemirror_mode": {
    "name": "ipython",
    "version": 3
   },
   "file_extension": ".py",
   "mimetype": "text/x-python",
   "name": "python",
   "nbconvert_exporter": "python",
   "pygments_lexer": "ipython3",
   "version": "3.8.10"
  },
  "toc-autonumbering": false,
  "toc-showcode": false,
  "toc-showmarkdowntxt": false
 },
 "nbformat": 4,
 "nbformat_minor": 5
}
